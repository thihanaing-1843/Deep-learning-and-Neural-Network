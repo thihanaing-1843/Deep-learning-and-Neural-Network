{
  "nbformat": 4,
  "nbformat_minor": 0,
  "metadata": {
    "colab": {
      "provenance": []
    },
    "kernelspec": {
      "name": "python3",
      "display_name": "Python 3"
    },
    "language_info": {
      "name": "python"
    }
  },
  "cells": [
    {
      "cell_type": "code",
      "execution_count": 2,
      "metadata": {
        "colab": {
          "base_uri": "https://localhost:8080/"
        },
        "id": "zrZl4cR-9ZN6",
        "outputId": "7fc8722c-dad0-4f2e-951d-c5cdd30cb5e1"
      },
      "outputs": [
        {
          "output_type": "execute_result",
          "data": {
            "text/plain": [
              "['Requirement already satisfied: keras in /usr/local/lib/python3.10/dist-packages (3.4.1)',\n",
              " 'Requirement already satisfied: pydot in /usr/local/lib/python3.10/dist-packages (3.0.2)',\n",
              " 'Requirement already satisfied: graphviz in /usr/local/lib/python3.10/dist-packages (0.20.3)',\n",
              " 'Requirement already satisfied: absl-py in /usr/local/lib/python3.10/dist-packages (from keras) (1.4.0)',\n",
              " 'Requirement already satisfied: numpy in /usr/local/lib/python3.10/dist-packages (from keras) (1.26.4)',\n",
              " 'Requirement already satisfied: rich in /usr/local/lib/python3.10/dist-packages (from keras) (13.9.3)',\n",
              " 'Requirement already satisfied: namex in /usr/local/lib/python3.10/dist-packages (from keras) (0.0.8)',\n",
              " 'Requirement already satisfied: h5py in /usr/local/lib/python3.10/dist-packages (from keras) (3.12.1)',\n",
              " 'Requirement already satisfied: optree in /usr/local/lib/python3.10/dist-packages (from keras) (0.13.0)',\n",
              " 'Requirement already satisfied: ml-dtypes in /usr/local/lib/python3.10/dist-packages (from keras) (0.4.1)',\n",
              " 'Requirement already satisfied: packaging in /usr/local/lib/python3.10/dist-packages (from keras) (24.1)',\n",
              " 'Requirement already satisfied: pyparsing>=3.0.9 in /usr/local/lib/python3.10/dist-packages (from pydot) (3.2.0)',\n",
              " 'Requirement already satisfied: typing-extensions>=4.5.0 in /usr/local/lib/python3.10/dist-packages (from optree->keras) (4.12.2)',\n",
              " 'Requirement already satisfied: markdown-it-py>=2.2.0 in /usr/local/lib/python3.10/dist-packages (from rich->keras) (3.0.0)',\n",
              " 'Requirement already satisfied: pygments<3.0.0,>=2.13.0 in /usr/local/lib/python3.10/dist-packages (from rich->keras) (2.18.0)',\n",
              " 'Requirement already satisfied: mdurl~=0.1 in /usr/local/lib/python3.10/dist-packages (from markdown-it-py>=2.2.0->rich->keras) (0.1.2)']"
            ]
          },
          "metadata": {},
          "execution_count": 2
        }
      ],
      "source": [
        "!!pip install keras pydot graphviz\n"
      ]
    },
    {
      "cell_type": "markdown",
      "source": [
        "# Import the libraries\n"
      ],
      "metadata": {
        "id": "XwKhb74W_wi3"
      }
    },
    {
      "cell_type": "code",
      "source": [
        "from tensorflow.keras.datasets import mnist\n",
        "from tensorflow.keras.models import Sequential\n",
        "from tensorflow.keras.layers import Dense\n",
        "from tensorflow.keras.optimizers import SGD\n",
        "from tensorflow.keras.utils import plot_model\n",
        "import matplotlib.pyplot as plt\n"
      ],
      "metadata": {
        "id": "NBkdRql-9f35"
      },
      "execution_count": 3,
      "outputs": []
    },
    {
      "cell_type": "markdown",
      "source": [
        "# Load MINST data:"
      ],
      "metadata": {
        "id": "-QK8GGIh_71p"
      }
    },
    {
      "cell_type": "code",
      "source": [
        "(X_train, y_train), (X_valid, y_valid) = mnist.load_data()"
      ],
      "metadata": {
        "colab": {
          "base_uri": "https://localhost:8080/"
        },
        "id": "v3G8KZfX98Hz",
        "outputId": "a9ea6936-b3e8-4108-d255-eb7393bfb96a"
      },
      "execution_count": 4,
      "outputs": [
        {
          "output_type": "stream",
          "name": "stdout",
          "text": [
            "Downloading data from https://storage.googleapis.com/tensorflow/tf-keras-datasets/mnist.npz\n",
            "\u001b[1m11490434/11490434\u001b[0m \u001b[32m━━━━━━━━━━━━━━━━━━━━\u001b[0m\u001b[37m\u001b[0m \u001b[1m0s\u001b[0m 0us/step\n"
          ]
        }
      ]
    },
    {
      "cell_type": "markdown",
      "source": [
        "# first 12 images"
      ],
      "metadata": {
        "id": "S8UGHgYGAAjS"
      }
    },
    {
      "cell_type": "code",
      "source": [
        "plt.figure(figsize=(5,5))\n",
        "for k in range(12):\n",
        "    plt.subplot(3, 4, k+1)\n",
        "    plt.imshow(X_train[k], cmap='Greys')\n",
        "    plt.axis('off')\n",
        "plt.tight_layout()\n",
        "plt.show()\n"
      ],
      "metadata": {
        "colab": {
          "base_uri": "https://localhost:8080/",
          "height": 447
        },
        "id": "um54DR2R9_TH",
        "outputId": "0f276374-c0ee-48f3-b094-32d9c1839b1f"
      },
      "execution_count": 5,
      "outputs": [
        {
          "output_type": "display_data",
          "data": {
            "text/plain": [
              "<Figure size 500x500 with 12 Axes>"
            ],
            "image/png": "[encoded data removed]"
          },
          "metadata": {}
        }
      ]
    },
    {
      "cell_type": "markdown",
      "source": [
        "# Flattening 2 dimensional images to one dimensional:"
      ],
      "metadata": {
        "id": "-6ypLb15AGEZ"
      }
    },
    {
      "cell_type": "code",
      "source": [
        "X_train = X_train.reshape(60000, 784).astype('float32')\n",
        "X_valid = X_valid.reshape(10000, 784).astype('float32')\n"
      ],
      "metadata": {
        "id": "uaPk5RfY-G0i"
      },
      "execution_count": 6,
      "outputs": []
    },
    {
      "cell_type": "markdown",
      "source": [
        "# Converting pixel integer values [0-255] to float values [0-1]"
      ],
      "metadata": {
        "id": "5ZwzFr-cAJ1g"
      }
    },
    {
      "cell_type": "code",
      "source": [
        "X_train /= 255\n",
        "X_valid /= 255\n"
      ],
      "metadata": {
        "id": "Iu0w9LAL-G6J"
      },
      "execution_count": 7,
      "outputs": []
    },
    {
      "cell_type": "code",
      "source": [
        "print(X_train.shape)\n",
        "print(X_valid.shape)"
      ],
      "metadata": {
        "colab": {
          "base_uri": "https://localhost:8080/"
        },
        "id": "PkGjAb-l-G-h",
        "outputId": "f16f2836-26b8-49ef-d2fd-0e4ccfbcbcea"
      },
      "execution_count": 8,
      "outputs": [
        {
          "output_type": "stream",
          "name": "stdout",
          "text": [
            "(60000, 784)\n",
            "(10000, 784)\n"
          ]
        }
      ]
    },
    {
      "cell_type": "markdown",
      "source": [
        "# Converting training and validation labels from integer values to one-hot encoding"
      ],
      "metadata": {
        "id": "j4s031VPAWPI"
      }
    },
    {
      "cell_type": "code",
      "source": [
        "n_classes = 10\n",
        "y_train = keras.utils.to_categorical(y_train, n_classes)\n",
        "y_valid = keras.utils.to_categorical(y_valid, n_classes)\n"
      ],
      "metadata": {
        "id": "IiPCSdPT-HBo"
      },
      "execution_count": 9,
      "outputs": []
    },
    {
      "cell_type": "code",
      "source": [
        "print(y_train.shape)\n",
        "print(y_valid.shape)"
      ],
      "metadata": {
        "colab": {
          "base_uri": "https://localhost:8080/"
        },
        "id": "1r7CCLHT-HHy",
        "outputId": "c65ab5d2-2e87-4c67-a480-10b074d8d7ac"
      },
      "execution_count": 10,
      "outputs": [
        {
          "output_type": "stream",
          "name": "stdout",
          "text": [
            "(60000, 10)\n",
            "(10000, 10)\n"
          ]
        }
      ]
    },
    {
      "cell_type": "markdown",
      "source": [
        "# Designing your first neural network architecture!"
      ],
      "metadata": {
        "id": "H-PfHAS2Ae42"
      }
    },
    {
      "cell_type": "code",
      "source": [
        "model = Sequential()\n",
        "model.add(Dense(64, activation='sigmoid', input_shape=(784,)))\n",
        "model.add(Dense(10, activation='softmax'))"
      ],
      "metadata": {
        "colab": {
          "base_uri": "https://localhost:8080/"
        },
        "id": "iAIS_GfT-HLL",
        "outputId": "27c22b65-208e-4350-e658-dfceb4ead110"
      },
      "execution_count": 11,
      "outputs": [
        {
          "output_type": "stream",
          "name": "stderr",
          "text": [
            "/usr/local/lib/python3.10/dist-packages/keras/src/layers/core/dense.py:87: UserWarning: Do not pass an `input_shape`/`input_dim` argument to a layer. When using Sequential models, prefer using an `Input(shape)` object as the first layer in the model instead.\n",
            "  super().__init__(activity_regularizer=activity_regularizer, **kwargs)\n"
          ]
        }
      ]
    },
    {
      "cell_type": "markdown",
      "source": [
        "# structure of your network"
      ],
      "metadata": {
        "id": "bIyaShaaAkkE"
      }
    },
    {
      "cell_type": "code",
      "source": [
        "plot_model(model, to_file='model_plot.png', show_shapes=True, show_layer_names=True)"
      ],
      "metadata": {
        "colab": {
          "base_uri": "https://localhost:8080/",
          "height": 606
        },
        "id": "e73iBDtq-HOU",
        "outputId": "0012a477-2d2a-47ce-92ce-2341b0c948c9"
      },
      "execution_count": 12,
      "outputs": [
        {
          "output_type": "execute_result",
          "data": {
            "image/png": "[encoded data removed]",
            "text/plain": [
              "<IPython.core.display.Image object>"
            ]
          },
          "metadata": {},
          "execution_count": 12
        }
      ]
    },
    {
      "source": [
        "# Change 'lr' to 'learning_rate' in the SGD optimizer\n",
        "model.compile(loss='mean_squared_error', optimizer=SGD(learning_rate=0.01), metrics=['accuracy'])\n",
        "model.fit(X_train, y_train, batch_size=128, epochs=200, verbose=1, validation_data=(X_valid, y_valid))"
      ],
      "cell_type": "code",
      "metadata": {
        "colab": {
          "base_uri": "https://localhost:8080/"
        },
        "id": "bpnBtNHn_jbN",
        "outputId": "edd23dc6-2514-44b0-ec09-91dfe48f843c"
      },
      "execution_count": 14,
      "outputs": [
        {
          "output_type": "stream",
          "name": "stdout",
          "text": [
            "Epoch 1/200\n",
            "\u001b[1m469/469\u001b[0m \u001b[32m━━━━━━━━━━━━━━━━━━━━\u001b[0m\u001b[37m\u001b[0m \u001b[1m3s\u001b[0m 4ms/step - accuracy: 0.1219 - loss: 0.0930 - val_accuracy: 0.1350 - val_loss: 0.0924\n",
            "Epoch 2/200\n",
            "\u001b[1m469/469\u001b[0m \u001b[32m━━━━━━━━━━━━━━━━━━━━\u001b[0m\u001b[37m\u001b[0m \u001b[1m2s\u001b[0m 3ms/step - accuracy: 0.1369 - loss: 0.0922 - val_accuracy: 0.1481 - val_loss: 0.0918\n",
            "Epoch 3/200\n",
            "\u001b[1m469/469\u001b[0m \u001b[32m━━━━━━━━━━━━━━━━━━━━\u001b[0m\u001b[37m\u001b[0m \u001b[1m3s\u001b[0m 6ms/step - accuracy: 0.1517 - loss: 0.0917 - val_accuracy: 0.1693 - val_loss: 0.0913\n",
            "Epoch 4/200\n",
            "\u001b[1m469/469\u001b[0m \u001b[32m━━━━━━━━━━━━━━━━━━━━\u001b[0m\u001b[37m\u001b[0m \u001b[1m2s\u001b[0m 5ms/step - accuracy: 0.1723 - loss: 0.0912 - val_accuracy: 0.1910 - val_loss: 0.0908\n",
            "Epoch 5/200\n",
            "\u001b[1m469/469\u001b[0m \u001b[32m━━━━━━━━━━━━━━━━━━━━\u001b[0m\u001b[37m\u001b[0m \u001b[1m2s\u001b[0m 3ms/step - accuracy: 0.1964 - loss: 0.0907 - val_accuracy: 0.2161 - val_loss: 0.0903\n",
            "Epoch 6/200\n",
            "\u001b[1m469/469\u001b[0m \u001b[32m━━━━━━━━━━━━━━━━━━━━\u001b[0m\u001b[37m\u001b[0m \u001b[1m2s\u001b[0m 3ms/step - accuracy: 0.2238 - loss: 0.0902 - val_accuracy: 0.2439 - val_loss: 0.0899\n",
            "Epoch 7/200\n",
            "\u001b[1m469/469\u001b[0m \u001b[32m━━━━━━━━━━━━━━━━━━━━\u001b[0m\u001b[37m\u001b[0m \u001b[1m2s\u001b[0m 3ms/step - accuracy: 0.2545 - loss: 0.0898 - val_accuracy: 0.2744 - val_loss: 0.0895\n",
            "Epoch 8/200\n",
            "\u001b[1m469/469\u001b[0m \u001b[32m━━━━━━━━━━━━━━━━━━━━\u001b[0m\u001b[37m\u001b[0m \u001b[1m3s\u001b[0m 4ms/step - accuracy: 0.2811 - loss: 0.0894 - val_accuracy: 0.3030 - val_loss: 0.0890\n",
            "Epoch 9/200\n",
            "\u001b[1m469/469\u001b[0m \u001b[32m━━━━━━━━━━━━━━━━━━━━\u001b[0m\u001b[37m\u001b[0m \u001b[1m3s\u001b[0m 5ms/step - accuracy: 0.3112 - loss: 0.0890 - val_accuracy: 0.3322 - val_loss: 0.0886\n",
            "Epoch 10/200\n",
            "\u001b[1m469/469\u001b[0m \u001b[32m━━━━━━━━━━━━━━━━━━━━\u001b[0m\u001b[37m\u001b[0m \u001b[1m2s\u001b[0m 5ms/step - accuracy: 0.3351 - loss: 0.0885 - val_accuracy: 0.3684 - val_loss: 0.0882\n",
            "Epoch 11/200\n",
            "\u001b[1m469/469\u001b[0m \u001b[32m━━━━━━━━━━━━━━━━━━━━\u001b[0m\u001b[37m\u001b[0m \u001b[1m2s\u001b[0m 3ms/step - accuracy: 0.3694 - loss: 0.0881 - val_accuracy: 0.4056 - val_loss: 0.0878\n",
            "Epoch 12/200\n",
            "\u001b[1m469/469\u001b[0m \u001b[32m━━━━━━━━━━━━━━━━━━━━\u001b[0m\u001b[37m\u001b[0m \u001b[1m2s\u001b[0m 4ms/step - accuracy: 0.4046 - loss: 0.0877 - val_accuracy: 0.4324 - val_loss: 0.0873\n",
            "Epoch 13/200\n",
            "\u001b[1m469/469\u001b[0m \u001b[32m━━━━━━━━━━━━━━━━━━━━\u001b[0m\u001b[37m\u001b[0m \u001b[1m3s\u001b[0m 3ms/step - accuracy: 0.4298 - loss: 0.0873 - val_accuracy: 0.4518 - val_loss: 0.0869\n",
            "Epoch 14/200\n",
            "\u001b[1m469/469\u001b[0m \u001b[32m━━━━━━━━━━━━━━━━━━━━\u001b[0m\u001b[37m\u001b[0m \u001b[1m2s\u001b[0m 3ms/step - accuracy: 0.4475 - loss: 0.0869 - val_accuracy: 0.4622 - val_loss: 0.0865\n",
            "Epoch 15/200\n",
            "\u001b[1m469/469\u001b[0m \u001b[32m━━━━━━━━━━━━━━━━━━━━\u001b[0m\u001b[37m\u001b[0m \u001b[1m2s\u001b[0m 4ms/step - accuracy: 0.4547 - loss: 0.0865 - val_accuracy: 0.4672 - val_loss: 0.0861\n",
            "Epoch 16/200\n",
            "\u001b[1m469/469\u001b[0m \u001b[32m━━━━━━━━━━━━━━━━━━━━\u001b[0m\u001b[37m\u001b[0m \u001b[1m3s\u001b[0m 5ms/step - accuracy: 0.4615 - loss: 0.0860 - val_accuracy: 0.4689 - val_loss: 0.0856\n",
            "Epoch 17/200\n",
            "\u001b[1m469/469\u001b[0m \u001b[32m━━━━━━━━━━━━━━━━━━━━\u001b[0m\u001b[37m\u001b[0m \u001b[1m2s\u001b[0m 4ms/step - accuracy: 0.4628 - loss: 0.0856 - val_accuracy: 0.4691 - val_loss: 0.0852\n",
            "Epoch 18/200\n",
            "\u001b[1m469/469\u001b[0m \u001b[32m━━━━━━━━━━━━━━━━━━━━\u001b[0m\u001b[37m\u001b[0m \u001b[1m2s\u001b[0m 3ms/step - accuracy: 0.4619 - loss: 0.0852 - val_accuracy: 0.4662 - val_loss: 0.0847\n",
            "Epoch 19/200\n",
            "\u001b[1m469/469\u001b[0m \u001b[32m━━━━━━━━━━━━━━━━━━━━\u001b[0m\u001b[37m\u001b[0m \u001b[1m2s\u001b[0m 3ms/step - accuracy: 0.4610 - loss: 0.0847 - val_accuracy: 0.4630 - val_loss: 0.0843\n",
            "Epoch 20/200\n",
            "\u001b[1m469/469\u001b[0m \u001b[32m━━━━━━━━━━━━━━━━━━━━\u001b[0m\u001b[37m\u001b[0m \u001b[1m3s\u001b[0m 4ms/step - accuracy: 0.4532 - loss: 0.0844 - val_accuracy: 0.4609 - val_loss: 0.0838\n",
            "Epoch 21/200\n",
            "\u001b[1m469/469\u001b[0m \u001b[32m━━━━━━━━━━━━━━━━━━━━\u001b[0m\u001b[37m\u001b[0m \u001b[1m3s\u001b[0m 6ms/step - accuracy: 0.4541 - loss: 0.0838 - val_accuracy: 0.4581 - val_loss: 0.0834\n",
            "Epoch 22/200\n",
            "\u001b[1m469/469\u001b[0m \u001b[32m━━━━━━━━━━━━━━━━━━━━\u001b[0m\u001b[37m\u001b[0m \u001b[1m2s\u001b[0m 4ms/step - accuracy: 0.4510 - loss: 0.0834 - val_accuracy: 0.4568 - val_loss: 0.0829\n",
            "Epoch 23/200\n",
            "\u001b[1m469/469\u001b[0m \u001b[32m━━━━━━━━━━━━━━━━━━━━\u001b[0m\u001b[37m\u001b[0m \u001b[1m2s\u001b[0m 3ms/step - accuracy: 0.4502 - loss: 0.0829 - val_accuracy: 0.4553 - val_loss: 0.0824\n",
            "Epoch 24/200\n",
            "\u001b[1m469/469\u001b[0m \u001b[32m━━━━━━━━━━━━━━━━━━━━\u001b[0m\u001b[37m\u001b[0m \u001b[1m2s\u001b[0m 3ms/step - accuracy: 0.4469 - loss: 0.0824 - val_accuracy: 0.4528 - val_loss: 0.0819\n",
            "Epoch 25/200\n",
            "\u001b[1m469/469\u001b[0m \u001b[32m━━━━━━━━━━━━━━━━━━━━\u001b[0m\u001b[37m\u001b[0m \u001b[1m3s\u001b[0m 3ms/step - accuracy: 0.4502 - loss: 0.0819 - val_accuracy: 0.4519 - val_loss: 0.0815\n",
            "Epoch 26/200\n",
            "\u001b[1m469/469\u001b[0m \u001b[32m━━━━━━━━━━━━━━━━━━━━\u001b[0m\u001b[37m\u001b[0m \u001b[1m2s\u001b[0m 3ms/step - accuracy: 0.4456 - loss: 0.0815 - val_accuracy: 0.4520 - val_loss: 0.0810\n",
            "Epoch 27/200\n",
            "\u001b[1m469/469\u001b[0m \u001b[32m━━━━━━━━━━━━━━━━━━━━\u001b[0m\u001b[37m\u001b[0m \u001b[1m2s\u001b[0m 5ms/step - accuracy: 0.4423 - loss: 0.0811 - val_accuracy: 0.4514 - val_loss: 0.0805\n",
            "Epoch 28/200\n",
            "\u001b[1m469/469\u001b[0m \u001b[32m━━━━━━━━━━━━━━━━━━━━\u001b[0m\u001b[37m\u001b[0m \u001b[1m3s\u001b[0m 5ms/step - accuracy: 0.4483 - loss: 0.0805 - val_accuracy: 0.4530 - val_loss: 0.0799\n",
            "Epoch 29/200\n",
            "\u001b[1m469/469\u001b[0m \u001b[32m━━━━━━━━━━━━━━━━━━━━\u001b[0m\u001b[37m\u001b[0m \u001b[1m2s\u001b[0m 4ms/step - accuracy: 0.4468 - loss: 0.0800 - val_accuracy: 0.4553 - val_loss: 0.0794\n",
            "Epoch 30/200\n",
            "\u001b[1m469/469\u001b[0m \u001b[32m━━━━━━━━━━━━━━━━━━━━\u001b[0m\u001b[37m\u001b[0m \u001b[1m2s\u001b[0m 4ms/step - accuracy: 0.4499 - loss: 0.0795 - val_accuracy: 0.4570 - val_loss: 0.0789\n",
            "Epoch 31/200\n",
            "\u001b[1m469/469\u001b[0m \u001b[32m━━━━━━━━━━━━━━━━━━━━\u001b[0m\u001b[37m\u001b[0m \u001b[1m2s\u001b[0m 3ms/step - accuracy: 0.4523 - loss: 0.0790 - val_accuracy: 0.4604 - val_loss: 0.0784\n",
            "Epoch 32/200\n",
            "\u001b[1m469/469\u001b[0m \u001b[32m━━━━━━━━━━━━━━━━━━━━\u001b[0m\u001b[37m\u001b[0m \u001b[1m2s\u001b[0m 4ms/step - accuracy: 0.4565 - loss: 0.0784 - val_accuracy: 0.4618 - val_loss: 0.0778\n",
            "Epoch 33/200\n",
            "\u001b[1m469/469\u001b[0m \u001b[32m━━━━━━━━━━━━━━━━━━━━\u001b[0m\u001b[37m\u001b[0m \u001b[1m3s\u001b[0m 6ms/step - accuracy: 0.4573 - loss: 0.0779 - val_accuracy: 0.4637 - val_loss: 0.0773\n",
            "Epoch 34/200\n",
            "\u001b[1m469/469\u001b[0m \u001b[32m━━━━━━━━━━━━━━━━━━━━\u001b[0m\u001b[37m\u001b[0m \u001b[1m4s\u001b[0m 4ms/step - accuracy: 0.4570 - loss: 0.0775 - val_accuracy: 0.4653 - val_loss: 0.0768\n",
            "Epoch 35/200\n",
            "\u001b[1m469/469\u001b[0m \u001b[32m━━━━━━━━━━━━━━━━━━━━\u001b[0m\u001b[37m\u001b[0m \u001b[1m2s\u001b[0m 4ms/step - accuracy: 0.4683 - loss: 0.0768 - val_accuracy: 0.4685 - val_loss: 0.0762\n",
            "Epoch 36/200\n",
            "\u001b[1m469/469\u001b[0m \u001b[32m━━━━━━━━━━━━━━━━━━━━\u001b[0m\u001b[37m\u001b[0m \u001b[1m2s\u001b[0m 3ms/step - accuracy: 0.4674 - loss: 0.0763 - val_accuracy: 0.4722 - val_loss: 0.0757\n",
            "Epoch 37/200\n",
            "\u001b[1m469/469\u001b[0m \u001b[32m━━━━━━━━━━━━━━━━━━━━\u001b[0m\u001b[37m\u001b[0m \u001b[1m3s\u001b[0m 5ms/step - accuracy: 0.4718 - loss: 0.0758 - val_accuracy: 0.4755 - val_loss: 0.0751\n",
            "Epoch 38/200\n",
            "\u001b[1m469/469\u001b[0m \u001b[32m━━━━━━━━━━━━━━━━━━━━\u001b[0m\u001b[37m\u001b[0m \u001b[1m3s\u001b[0m 6ms/step - accuracy: 0.4741 - loss: 0.0753 - val_accuracy: 0.4791 - val_loss: 0.0746\n",
            "Epoch 39/200\n",
            "\u001b[1m469/469\u001b[0m \u001b[32m━━━━━━━━━━━━━━━━━━━━\u001b[0m\u001b[37m\u001b[0m \u001b[1m4s\u001b[0m 3ms/step - accuracy: 0.4774 - loss: 0.0748 - val_accuracy: 0.4836 - val_loss: 0.0740\n",
            "Epoch 40/200\n",
            "\u001b[1m469/469\u001b[0m \u001b[32m━━━━━━━━━━━━━━━━━━━━\u001b[0m\u001b[37m\u001b[0m \u001b[1m2s\u001b[0m 3ms/step - accuracy: 0.4810 - loss: 0.0741 - val_accuracy: 0.4883 - val_loss: 0.0734\n",
            "Epoch 41/200\n",
            "\u001b[1m469/469\u001b[0m \u001b[32m━━━━━━━━━━━━━━━━━━━━\u001b[0m\u001b[37m\u001b[0m \u001b[1m3s\u001b[0m 4ms/step - accuracy: 0.4852 - loss: 0.0736 - val_accuracy: 0.4921 - val_loss: 0.0729\n",
            "Epoch 42/200\n",
            "\u001b[1m469/469\u001b[0m \u001b[32m━━━━━━━━━━━━━━━━━━━━\u001b[0m\u001b[37m\u001b[0m \u001b[1m3s\u001b[0m 5ms/step - accuracy: 0.4889 - loss: 0.0731 - val_accuracy: 0.4955 - val_loss: 0.0723\n",
            "Epoch 43/200\n",
            "\u001b[1m469/469\u001b[0m \u001b[32m━━━━━━━━━━━━━━━━━━━━\u001b[0m\u001b[37m\u001b[0m \u001b[1m3s\u001b[0m 5ms/step - accuracy: 0.4953 - loss: 0.0725 - val_accuracy: 0.4995 - val_loss: 0.0718\n",
            "Epoch 44/200\n",
            "\u001b[1m469/469\u001b[0m \u001b[32m━━━━━━━━━━━━━━━━━━━━\u001b[0m\u001b[37m\u001b[0m \u001b[1m2s\u001b[0m 3ms/step - accuracy: 0.4974 - loss: 0.0720 - val_accuracy: 0.5030 - val_loss: 0.0712\n",
            "Epoch 45/200\n",
            "\u001b[1m469/469\u001b[0m \u001b[32m━━━━━━━━━━━━━━━━━━━━\u001b[0m\u001b[37m\u001b[0m \u001b[1m2s\u001b[0m 3ms/step - accuracy: 0.5038 - loss: 0.0714 - val_accuracy: 0.5074 - val_loss: 0.0707\n",
            "Epoch 46/200\n",
            "\u001b[1m469/469\u001b[0m \u001b[32m━━━━━━━━━━━━━━━━━━━━\u001b[0m\u001b[37m\u001b[0m \u001b[1m3s\u001b[0m 4ms/step - accuracy: 0.5071 - loss: 0.0709 - val_accuracy: 0.5117 - val_loss: 0.0701\n",
            "Epoch 47/200\n",
            "\u001b[1m469/469\u001b[0m \u001b[32m━━━━━━━━━━━━━━━━━━━━\u001b[0m\u001b[37m\u001b[0m \u001b[1m4s\u001b[0m 6ms/step - accuracy: 0.5112 - loss: 0.0704 - val_accuracy: 0.5164 - val_loss: 0.0696\n",
            "Epoch 48/200\n",
            "\u001b[1m469/469\u001b[0m \u001b[32m━━━━━━━━━━━━━━━━━━━━\u001b[0m\u001b[37m\u001b[0m \u001b[1m4s\u001b[0m 4ms/step - accuracy: 0.5163 - loss: 0.0697 - val_accuracy: 0.5227 - val_loss: 0.0690\n",
            "Epoch 49/200\n",
            "\u001b[1m469/469\u001b[0m \u001b[32m━━━━━━━━━━━━━━━━━━━━\u001b[0m\u001b[37m\u001b[0m \u001b[1m3s\u001b[0m 4ms/step - accuracy: 0.5207 - loss: 0.0693 - val_accuracy: 0.5280 - val_loss: 0.0685\n",
            "Epoch 50/200\n",
            "\u001b[1m469/469\u001b[0m \u001b[32m━━━━━━━━━━━━━━━━━━━━\u001b[0m\u001b[37m\u001b[0m \u001b[1m2s\u001b[0m 4ms/step - accuracy: 0.5287 - loss: 0.0687 - val_accuracy: 0.5332 - val_loss: 0.0679\n",
            "Epoch 51/200\n",
            "\u001b[1m469/469\u001b[0m \u001b[32m━━━━━━━━━━━━━━━━━━━━\u001b[0m\u001b[37m\u001b[0m \u001b[1m3s\u001b[0m 4ms/step - accuracy: 0.5335 - loss: 0.0681 - val_accuracy: 0.5388 - val_loss: 0.0674\n",
            "Epoch 52/200\n",
            "\u001b[1m469/469\u001b[0m \u001b[32m━━━━━━━━━━━━━━━━━━━━\u001b[0m\u001b[37m\u001b[0m \u001b[1m3s\u001b[0m 5ms/step - accuracy: 0.5392 - loss: 0.0677 - val_accuracy: 0.5443 - val_loss: 0.0669\n",
            "Epoch 53/200\n",
            "\u001b[1m469/469\u001b[0m \u001b[32m━━━━━━━━━━━━━━━━━━━━\u001b[0m\u001b[37m\u001b[0m \u001b[1m4s\u001b[0m 3ms/step - accuracy: 0.5433 - loss: 0.0671 - val_accuracy: 0.5494 - val_loss: 0.0663\n",
            "Epoch 54/200\n",
            "\u001b[1m469/469\u001b[0m \u001b[32m━━━━━━━━━━━━━━━━━━━━\u001b[0m\u001b[37m\u001b[0m \u001b[1m2s\u001b[0m 4ms/step - accuracy: 0.5517 - loss: 0.0665 - val_accuracy: 0.5562 - val_loss: 0.0658\n",
            "Epoch 55/200\n",
            "\u001b[1m469/469\u001b[0m \u001b[32m━━━━━━━━━━━━━━━━━━━━\u001b[0m\u001b[37m\u001b[0m \u001b[1m2s\u001b[0m 3ms/step - accuracy: 0.5541 - loss: 0.0661 - val_accuracy: 0.5628 - val_loss: 0.0653\n",
            "Epoch 56/200\n",
            "\u001b[1m469/469\u001b[0m \u001b[32m━━━━━━━━━━━━━━━━━━━━\u001b[0m\u001b[37m\u001b[0m \u001b[1m3s\u001b[0m 4ms/step - accuracy: 0.5617 - loss: 0.0656 - val_accuracy: 0.5698 - val_loss: 0.0648\n",
            "Epoch 57/200\n",
            "\u001b[1m469/469\u001b[0m \u001b[32m━━━━━━━━━━━━━━━━━━━━\u001b[0m\u001b[37m\u001b[0m \u001b[1m3s\u001b[0m 5ms/step - accuracy: 0.5686 - loss: 0.0651 - val_accuracy: 0.5766 - val_loss: 0.0643\n",
            "Epoch 58/200\n",
            "\u001b[1m469/469\u001b[0m \u001b[32m━━━━━━━━━━━━━━━━━━━━\u001b[0m\u001b[37m\u001b[0m \u001b[1m2s\u001b[0m 4ms/step - accuracy: 0.5733 - loss: 0.0647 - val_accuracy: 0.5822 - val_loss: 0.0638\n",
            "Epoch 59/200\n",
            "\u001b[1m469/469\u001b[0m \u001b[32m━━━━━━━━━━━━━━━━━━━━\u001b[0m\u001b[37m\u001b[0m \u001b[1m2s\u001b[0m 4ms/step - accuracy: 0.5808 - loss: 0.0640 - val_accuracy: 0.5889 - val_loss: 0.0632\n",
            "Epoch 60/200\n",
            "\u001b[1m469/469\u001b[0m \u001b[32m━━━━━━━━━━━━━━━━━━━━\u001b[0m\u001b[37m\u001b[0m \u001b[1m2s\u001b[0m 4ms/step - accuracy: 0.5847 - loss: 0.0637 - val_accuracy: 0.5953 - val_loss: 0.0627\n",
            "Epoch 61/200\n",
            "\u001b[1m469/469\u001b[0m \u001b[32m━━━━━━━━━━━━━━━━━━━━\u001b[0m\u001b[37m\u001b[0m \u001b[1m3s\u001b[0m 4ms/step - accuracy: 0.5903 - loss: 0.0632 - val_accuracy: 0.6012 - val_loss: 0.0623\n",
            "Epoch 62/200\n",
            "\u001b[1m469/469\u001b[0m \u001b[32m━━━━━━━━━━━━━━━━━━━━\u001b[0m\u001b[37m\u001b[0m \u001b[1m2s\u001b[0m 4ms/step - accuracy: 0.5965 - loss: 0.0627 - val_accuracy: 0.6074 - val_loss: 0.0618\n",
            "Epoch 63/200\n",
            "\u001b[1m469/469\u001b[0m \u001b[32m━━━━━━━━━━━━━━━━━━━━\u001b[0m\u001b[37m\u001b[0m \u001b[1m3s\u001b[0m 5ms/step - accuracy: 0.6006 - loss: 0.0624 - val_accuracy: 0.6129 - val_loss: 0.0613\n",
            "Epoch 64/200\n",
            "\u001b[1m469/469\u001b[0m \u001b[32m━━━━━━━━━━━━━━━━━━━━\u001b[0m\u001b[37m\u001b[0m \u001b[1m2s\u001b[0m 3ms/step - accuracy: 0.6086 - loss: 0.0615 - val_accuracy: 0.6198 - val_loss: 0.0608\n",
            "Epoch 65/200\n",
            "\u001b[1m469/469\u001b[0m \u001b[32m━━━━━━━━━━━━━━━━━━━━\u001b[0m\u001b[37m\u001b[0m \u001b[1m3s\u001b[0m 4ms/step - accuracy: 0.6165 - loss: 0.0611 - val_accuracy: 0.6248 - val_loss: 0.0603\n",
            "Epoch 66/200\n",
            "\u001b[1m469/469\u001b[0m \u001b[32m━━━━━━━━━━━━━━━━━━━━\u001b[0m\u001b[37m\u001b[0m \u001b[1m2s\u001b[0m 3ms/step - accuracy: 0.6203 - loss: 0.0608 - val_accuracy: 0.6287 - val_loss: 0.0598\n",
            "Epoch 67/200\n",
            "\u001b[1m469/469\u001b[0m \u001b[32m━━━━━━━━━━━━━━━━━━━━\u001b[0m\u001b[37m\u001b[0m \u001b[1m2s\u001b[0m 4ms/step - accuracy: 0.6247 - loss: 0.0603 - val_accuracy: 0.6344 - val_loss: 0.0594\n",
            "Epoch 68/200\n",
            "\u001b[1m469/469\u001b[0m \u001b[32m━━━━━━━━━━━━━━━━━━━━\u001b[0m\u001b[37m\u001b[0m \u001b[1m3s\u001b[0m 5ms/step - accuracy: 0.6286 - loss: 0.0599 - val_accuracy: 0.6385 - val_loss: 0.0589\n",
            "Epoch 69/200\n",
            "\u001b[1m469/469\u001b[0m \u001b[32m━━━━━━━━━━━━━━━━━━━━\u001b[0m\u001b[37m\u001b[0m \u001b[1m3s\u001b[0m 5ms/step - accuracy: 0.6363 - loss: 0.0592 - val_accuracy: 0.6444 - val_loss: 0.0584\n",
            "Epoch 70/200\n",
            "\u001b[1m469/469\u001b[0m \u001b[32m━━━━━━━━━━━━━━━━━━━━\u001b[0m\u001b[37m\u001b[0m \u001b[1m2s\u001b[0m 4ms/step - accuracy: 0.6376 - loss: 0.0590 - val_accuracy: 0.6490 - val_loss: 0.0580\n",
            "Epoch 71/200\n",
            "\u001b[1m469/469\u001b[0m \u001b[32m━━━━━━━━━━━━━━━━━━━━\u001b[0m\u001b[37m\u001b[0m \u001b[1m3s\u001b[0m 4ms/step - accuracy: 0.6455 - loss: 0.0585 - val_accuracy: 0.6540 - val_loss: 0.0575\n",
            "Epoch 72/200\n",
            "\u001b[1m469/469\u001b[0m \u001b[32m━━━━━━━━━━━━━━━━━━━━\u001b[0m\u001b[37m\u001b[0m \u001b[1m2s\u001b[0m 3ms/step - accuracy: 0.6483 - loss: 0.0580 - val_accuracy: 0.6572 - val_loss: 0.0571\n",
            "Epoch 73/200\n",
            "\u001b[1m469/469\u001b[0m \u001b[32m━━━━━━━━━━━━━━━━━━━━\u001b[0m\u001b[37m\u001b[0m \u001b[1m2s\u001b[0m 4ms/step - accuracy: 0.6492 - loss: 0.0579 - val_accuracy: 0.6609 - val_loss: 0.0566\n",
            "Epoch 74/200\n",
            "\u001b[1m469/469\u001b[0m \u001b[32m━━━━━━━━━━━━━━━━━━━━\u001b[0m\u001b[37m\u001b[0m \u001b[1m4s\u001b[0m 6ms/step - accuracy: 0.6551 - loss: 0.0572 - val_accuracy: 0.6640 - val_loss: 0.0562\n",
            "Epoch 75/200\n",
            "\u001b[1m469/469\u001b[0m \u001b[32m━━━━━━━━━━━━━━━━━━━━\u001b[0m\u001b[37m\u001b[0m \u001b[1m4s\u001b[0m 4ms/step - accuracy: 0.6585 - loss: 0.0569 - val_accuracy: 0.6672 - val_loss: 0.0558\n",
            "Epoch 76/200\n",
            "\u001b[1m469/469\u001b[0m \u001b[32m━━━━━━━━━━━━━━━━━━━━\u001b[0m\u001b[37m\u001b[0m \u001b[1m2s\u001b[0m 4ms/step - accuracy: 0.6642 - loss: 0.0563 - val_accuracy: 0.6717 - val_loss: 0.0553\n",
            "Epoch 77/200\n",
            "\u001b[1m469/469\u001b[0m \u001b[32m━━━━━━━━━━━━━━━━━━━━\u001b[0m\u001b[37m\u001b[0m \u001b[1m3s\u001b[0m 4ms/step - accuracy: 0.6661 - loss: 0.0559 - val_accuracy: 0.6748 - val_loss: 0.0549\n",
            "Epoch 78/200\n",
            "\u001b[1m469/469\u001b[0m \u001b[32m━━━━━━━━━━━━━━━━━━━━\u001b[0m\u001b[37m\u001b[0m \u001b[1m2s\u001b[0m 4ms/step - accuracy: 0.6725 - loss: 0.0552 - val_accuracy: 0.6785 - val_loss: 0.0545\n",
            "Epoch 79/200\n",
            "\u001b[1m469/469\u001b[0m \u001b[32m━━━━━━━━━━━━━━━━━━━━\u001b[0m\u001b[37m\u001b[0m \u001b[1m3s\u001b[0m 5ms/step - accuracy: 0.6771 - loss: 0.0550 - val_accuracy: 0.6826 - val_loss: 0.0541\n",
            "Epoch 80/200\n",
            "\u001b[1m469/469\u001b[0m \u001b[32m━━━━━━━━━━━━━━━━━━━━\u001b[0m\u001b[37m\u001b[0m \u001b[1m3s\u001b[0m 5ms/step - accuracy: 0.6768 - loss: 0.0546 - val_accuracy: 0.6865 - val_loss: 0.0536\n",
            "Epoch 81/200\n",
            "\u001b[1m469/469\u001b[0m \u001b[32m━━━━━━━━━━━━━━━━━━━━\u001b[0m\u001b[37m\u001b[0m \u001b[1m2s\u001b[0m 3ms/step - accuracy: 0.6799 - loss: 0.0543 - val_accuracy: 0.6905 - val_loss: 0.0532\n",
            "Epoch 82/200\n",
            "\u001b[1m469/469\u001b[0m \u001b[32m━━━━━━━━━━━━━━━━━━━━\u001b[0m\u001b[37m\u001b[0m \u001b[1m2s\u001b[0m 4ms/step - accuracy: 0.6848 - loss: 0.0538 - val_accuracy: 0.6950 - val_loss: 0.0528\n",
            "Epoch 83/200\n",
            "\u001b[1m469/469\u001b[0m \u001b[32m━━━━━━━━━━━━━━━━━━━━\u001b[0m\u001b[37m\u001b[0m \u001b[1m2s\u001b[0m 3ms/step - accuracy: 0.6885 - loss: 0.0536 - val_accuracy: 0.6988 - val_loss: 0.0524\n",
            "Epoch 84/200\n",
            "\u001b[1m469/469\u001b[0m \u001b[32m━━━━━━━━━━━━━━━━━━━━\u001b[0m\u001b[37m\u001b[0m \u001b[1m2s\u001b[0m 4ms/step - accuracy: 0.6908 - loss: 0.0531 - val_accuracy: 0.7019 - val_loss: 0.0520\n",
            "Epoch 85/200\n",
            "\u001b[1m469/469\u001b[0m \u001b[32m━━━━━━━━━━━━━━━━━━━━\u001b[0m\u001b[37m\u001b[0m \u001b[1m2s\u001b[0m 4ms/step - accuracy: 0.6963 - loss: 0.0525 - val_accuracy: 0.7043 - val_loss: 0.0516\n",
            "Epoch 86/200\n",
            "\u001b[1m469/469\u001b[0m \u001b[32m━━━━━━━━━━━━━━━━━━━━\u001b[0m\u001b[37m\u001b[0m \u001b[1m2s\u001b[0m 5ms/step - accuracy: 0.6966 - loss: 0.0523 - val_accuracy: 0.7087 - val_loss: 0.0512\n",
            "Epoch 87/200\n",
            "\u001b[1m469/469\u001b[0m \u001b[32m━━━━━━━━━━━━━━━━━━━━\u001b[0m\u001b[37m\u001b[0m \u001b[1m2s\u001b[0m 5ms/step - accuracy: 0.7007 - loss: 0.0519 - val_accuracy: 0.7110 - val_loss: 0.0508\n",
            "Epoch 88/200\n",
            "\u001b[1m469/469\u001b[0m \u001b[32m━━━━━━━━━━━━━━━━━━━━\u001b[0m\u001b[37m\u001b[0m \u001b[1m2s\u001b[0m 4ms/step - accuracy: 0.7040 - loss: 0.0516 - val_accuracy: 0.7143 - val_loss: 0.0505\n",
            "Epoch 89/200\n",
            "\u001b[1m469/469\u001b[0m \u001b[32m━━━━━━━━━━━━━━━━━━━━\u001b[0m\u001b[37m\u001b[0m \u001b[1m2s\u001b[0m 4ms/step - accuracy: 0.7064 - loss: 0.0510 - val_accuracy: 0.7166 - val_loss: 0.0501\n",
            "Epoch 90/200\n",
            "\u001b[1m469/469\u001b[0m \u001b[32m━━━━━━━━━━━━━━━━━━━━\u001b[0m\u001b[37m\u001b[0m \u001b[1m2s\u001b[0m 4ms/step - accuracy: 0.7099 - loss: 0.0507 - val_accuracy: 0.7201 - val_loss: 0.0497\n",
            "Epoch 91/200\n",
            "\u001b[1m469/469\u001b[0m \u001b[32m━━━━━━━━━━━━━━━━━━━━\u001b[0m\u001b[37m\u001b[0m \u001b[1m3s\u001b[0m 5ms/step - accuracy: 0.7134 - loss: 0.0504 - val_accuracy: 0.7229 - val_loss: 0.0493\n",
            "Epoch 92/200\n",
            "\u001b[1m469/469\u001b[0m \u001b[32m━━━━━━━━━━━━━━━━━━━━\u001b[0m\u001b[37m\u001b[0m \u001b[1m3s\u001b[0m 5ms/step - accuracy: 0.7165 - loss: 0.0499 - val_accuracy: 0.7265 - val_loss: 0.0490\n",
            "Epoch 93/200\n",
            "\u001b[1m469/469\u001b[0m \u001b[32m━━━━━━━━━━━━━━━━━━━━\u001b[0m\u001b[37m\u001b[0m \u001b[1m2s\u001b[0m 5ms/step - accuracy: 0.7190 - loss: 0.0495 - val_accuracy: 0.7296 - val_loss: 0.0486\n",
            "Epoch 94/200\n",
            "\u001b[1m469/469\u001b[0m \u001b[32m━━━━━━━━━━━━━━━━━━━━\u001b[0m\u001b[37m\u001b[0m \u001b[1m2s\u001b[0m 4ms/step - accuracy: 0.7185 - loss: 0.0495 - val_accuracy: 0.7323 - val_loss: 0.0483\n",
            "Epoch 95/200\n",
            "\u001b[1m469/469\u001b[0m \u001b[32m━━━━━━━━━━━━━━━━━━━━\u001b[0m\u001b[37m\u001b[0m \u001b[1m2s\u001b[0m 3ms/step - accuracy: 0.7253 - loss: 0.0489 - val_accuracy: 0.7346 - val_loss: 0.0479\n",
            "Epoch 96/200\n",
            "\u001b[1m469/469\u001b[0m \u001b[32m━━━━━━━━━━━━━━━━━━━━\u001b[0m\u001b[37m\u001b[0m \u001b[1m3s\u001b[0m 4ms/step - accuracy: 0.7255 - loss: 0.0487 - val_accuracy: 0.7371 - val_loss: 0.0476\n",
            "Epoch 97/200\n",
            "\u001b[1m469/469\u001b[0m \u001b[32m━━━━━━━━━━━━━━━━━━━━\u001b[0m\u001b[37m\u001b[0m \u001b[1m2s\u001b[0m 4ms/step - accuracy: 0.7295 - loss: 0.0482 - val_accuracy: 0.7396 - val_loss: 0.0472\n",
            "Epoch 98/200\n",
            "\u001b[1m469/469\u001b[0m \u001b[32m━━━━━━━━━━━━━━━━━━━━\u001b[0m\u001b[37m\u001b[0m \u001b[1m3s\u001b[0m 4ms/step - accuracy: 0.7350 - loss: 0.0477 - val_accuracy: 0.7430 - val_loss: 0.0469\n",
            "Epoch 99/200\n",
            "\u001b[1m469/469\u001b[0m \u001b[32m━━━━━━━━━━━━━━━━━━━━\u001b[0m\u001b[37m\u001b[0m \u001b[1m3s\u001b[0m 7ms/step - accuracy: 0.7313 - loss: 0.0478 - val_accuracy: 0.7455 - val_loss: 0.0465\n",
            "Epoch 100/200\n",
            "\u001b[1m469/469\u001b[0m \u001b[32m━━━━━━━━━━━━━━━━━━━━\u001b[0m\u001b[37m\u001b[0m \u001b[1m2s\u001b[0m 4ms/step - accuracy: 0.7336 - loss: 0.0475 - val_accuracy: 0.7478 - val_loss: 0.0462\n",
            "Epoch 101/200\n",
            "\u001b[1m469/469\u001b[0m \u001b[32m━━━━━━━━━━━━━━━━━━━━\u001b[0m\u001b[37m\u001b[0m \u001b[1m2s\u001b[0m 4ms/step - accuracy: 0.7380 - loss: 0.0469 - val_accuracy: 0.7496 - val_loss: 0.0459\n",
            "Epoch 102/200\n",
            "\u001b[1m469/469\u001b[0m \u001b[32m━━━━━━━━━━━━━━━━━━━━\u001b[0m\u001b[37m\u001b[0m \u001b[1m2s\u001b[0m 3ms/step - accuracy: 0.7392 - loss: 0.0467 - val_accuracy: 0.7513 - val_loss: 0.0455\n",
            "Epoch 103/200\n",
            "\u001b[1m469/469\u001b[0m \u001b[32m━━━━━━━━━━━━━━━━━━━━\u001b[0m\u001b[37m\u001b[0m \u001b[1m2s\u001b[0m 4ms/step - accuracy: 0.7436 - loss: 0.0463 - val_accuracy: 0.7535 - val_loss: 0.0452\n",
            "Epoch 104/200\n",
            "\u001b[1m469/469\u001b[0m \u001b[32m━━━━━━━━━━━━━━━━━━━━\u001b[0m\u001b[37m\u001b[0m \u001b[1m3s\u001b[0m 4ms/step - accuracy: 0.7433 - loss: 0.0461 - val_accuracy: 0.7551 - val_loss: 0.0449\n",
            "Epoch 105/200\n",
            "\u001b[1m469/469\u001b[0m \u001b[32m━━━━━━━━━━━━━━━━━━━━\u001b[0m\u001b[37m\u001b[0m \u001b[1m3s\u001b[0m 5ms/step - accuracy: 0.7487 - loss: 0.0455 - val_accuracy: 0.7571 - val_loss: 0.0446\n",
            "Epoch 106/200\n",
            "\u001b[1m469/469\u001b[0m \u001b[32m━━━━━━━━━━━━━━━━━━━━\u001b[0m\u001b[37m\u001b[0m \u001b[1m2s\u001b[0m 4ms/step - accuracy: 0.7470 - loss: 0.0455 - val_accuracy: 0.7590 - val_loss: 0.0443\n",
            "Epoch 107/200\n",
            "\u001b[1m469/469\u001b[0m \u001b[32m━━━━━━━━━━━━━━━━━━━━\u001b[0m\u001b[37m\u001b[0m \u001b[1m3s\u001b[0m 4ms/step - accuracy: 0.7488 - loss: 0.0452 - val_accuracy: 0.7609 - val_loss: 0.0440\n",
            "Epoch 108/200\n",
            "\u001b[1m469/469\u001b[0m \u001b[32m━━━━━━━━━━━━━━━━━━━━\u001b[0m\u001b[37m\u001b[0m \u001b[1m2s\u001b[0m 3ms/step - accuracy: 0.7523 - loss: 0.0448 - val_accuracy: 0.7627 - val_loss: 0.0437\n",
            "Epoch 109/200\n",
            "\u001b[1m469/469\u001b[0m \u001b[32m━━━━━━━━━━━━━━━━━━━━\u001b[0m\u001b[37m\u001b[0m \u001b[1m2s\u001b[0m 3ms/step - accuracy: 0.7513 - loss: 0.0447 - val_accuracy: 0.7650 - val_loss: 0.0434\n",
            "Epoch 110/200\n",
            "\u001b[1m469/469\u001b[0m \u001b[32m━━━━━━━━━━━━━━━━━━━━\u001b[0m\u001b[37m\u001b[0m \u001b[1m3s\u001b[0m 5ms/step - accuracy: 0.7566 - loss: 0.0441 - val_accuracy: 0.7659 - val_loss: 0.0431\n",
            "Epoch 111/200\n",
            "\u001b[1m469/469\u001b[0m \u001b[32m━━━━━━━━━━━━━━━━━━━━\u001b[0m\u001b[37m\u001b[0m \u001b[1m3s\u001b[0m 7ms/step - accuracy: 0.7550 - loss: 0.0440 - val_accuracy: 0.7668 - val_loss: 0.0428\n",
            "Epoch 112/200\n",
            "\u001b[1m469/469\u001b[0m \u001b[32m━━━━━━━━━━━━━━━━━━━━\u001b[0m\u001b[37m\u001b[0m \u001b[1m4s\u001b[0m 5ms/step - accuracy: 0.7570 - loss: 0.0436 - val_accuracy: 0.7692 - val_loss: 0.0425\n",
            "Epoch 113/200\n",
            "\u001b[1m469/469\u001b[0m \u001b[32m━━━━━━━━━━━━━━━━━━━━\u001b[0m\u001b[37m\u001b[0m \u001b[1m2s\u001b[0m 3ms/step - accuracy: 0.7598 - loss: 0.0434 - val_accuracy: 0.7707 - val_loss: 0.0423\n",
            "Epoch 114/200\n",
            "\u001b[1m469/469\u001b[0m \u001b[32m━━━━━━━━━━━━━━━━━━━━\u001b[0m\u001b[37m\u001b[0m \u001b[1m3s\u001b[0m 3ms/step - accuracy: 0.7628 - loss: 0.0428 - val_accuracy: 0.7720 - val_loss: 0.0420\n",
            "Epoch 115/200\n",
            "\u001b[1m469/469\u001b[0m \u001b[32m━━━━━━━━━━━━━━━━━━━━\u001b[0m\u001b[37m\u001b[0m \u001b[1m3s\u001b[0m 5ms/step - accuracy: 0.7655 - loss: 0.0426 - val_accuracy: 0.7733 - val_loss: 0.0417\n",
            "Epoch 116/200\n",
            "\u001b[1m469/469\u001b[0m \u001b[32m━━━━━━━━━━━━━━━━━━━━\u001b[0m\u001b[37m\u001b[0m \u001b[1m2s\u001b[0m 5ms/step - accuracy: 0.7612 - loss: 0.0426 - val_accuracy: 0.7746 - val_loss: 0.0414\n",
            "Epoch 117/200\n",
            "\u001b[1m469/469\u001b[0m \u001b[32m━━━━━━━━━━━━━━━━━━━━\u001b[0m\u001b[37m\u001b[0m \u001b[1m2s\u001b[0m 4ms/step - accuracy: 0.7620 - loss: 0.0424 - val_accuracy: 0.7767 - val_loss: 0.0412\n",
            "Epoch 118/200\n",
            "\u001b[1m469/469\u001b[0m \u001b[32m━━━━━━━━━━━━━━━━━━━━\u001b[0m\u001b[37m\u001b[0m \u001b[1m2s\u001b[0m 3ms/step - accuracy: 0.7659 - loss: 0.0421 - val_accuracy: 0.7780 - val_loss: 0.0409\n",
            "Epoch 119/200\n",
            "\u001b[1m469/469\u001b[0m \u001b[32m━━━━━━━━━━━━━━━━━━━━\u001b[0m\u001b[37m\u001b[0m \u001b[1m3s\u001b[0m 4ms/step - accuracy: 0.7653 - loss: 0.0418 - val_accuracy: 0.7788 - val_loss: 0.0406\n",
            "Epoch 120/200\n",
            "\u001b[1m469/469\u001b[0m \u001b[32m━━━━━━━━━━━━━━━━━━━━\u001b[0m\u001b[37m\u001b[0m \u001b[1m2s\u001b[0m 3ms/step - accuracy: 0.7674 - loss: 0.0416 - val_accuracy: 0.7796 - val_loss: 0.0404\n",
            "Epoch 121/200\n",
            "\u001b[1m469/469\u001b[0m \u001b[32m━━━━━━━━━━━━━━━━━━━━\u001b[0m\u001b[37m\u001b[0m \u001b[1m2s\u001b[0m 4ms/step - accuracy: 0.7708 - loss: 0.0411 - val_accuracy: 0.7806 - val_loss: 0.0401\n",
            "Epoch 122/200\n",
            "\u001b[1m469/469\u001b[0m \u001b[32m━━━━━━━━━━━━━━━━━━━━\u001b[0m\u001b[37m\u001b[0m \u001b[1m3s\u001b[0m 5ms/step - accuracy: 0.7721 - loss: 0.0410 - val_accuracy: 0.7817 - val_loss: 0.0399\n",
            "Epoch 123/200\n",
            "\u001b[1m469/469\u001b[0m \u001b[32m━━━━━━━━━━━━━━━━━━━━\u001b[0m\u001b[37m\u001b[0m \u001b[1m2s\u001b[0m 3ms/step - accuracy: 0.7687 - loss: 0.0409 - val_accuracy: 0.7829 - val_loss: 0.0396\n",
            "Epoch 124/200\n",
            "\u001b[1m469/469\u001b[0m \u001b[32m━━━━━━━━━━━━━━━━━━━━\u001b[0m\u001b[37m\u001b[0m \u001b[1m2s\u001b[0m 3ms/step - accuracy: 0.7706 - loss: 0.0408 - val_accuracy: 0.7839 - val_loss: 0.0394\n",
            "Epoch 125/200\n",
            "\u001b[1m469/469\u001b[0m \u001b[32m━━━━━━━━━━━━━━━━━━━━\u001b[0m\u001b[37m\u001b[0m \u001b[1m3s\u001b[0m 4ms/step - accuracy: 0.7734 - loss: 0.0403 - val_accuracy: 0.7853 - val_loss: 0.0392\n",
            "Epoch 126/200\n",
            "\u001b[1m469/469\u001b[0m \u001b[32m━━━━━━━━━━━━━━━━━━━━\u001b[0m\u001b[37m\u001b[0m \u001b[1m3s\u001b[0m 4ms/step - accuracy: 0.7746 - loss: 0.0401 - val_accuracy: 0.7861 - val_loss: 0.0389\n",
            "Epoch 127/200\n",
            "\u001b[1m469/469\u001b[0m \u001b[32m━━━━━━━━━━━━━━━━━━━━\u001b[0m\u001b[37m\u001b[0m \u001b[1m3s\u001b[0m 5ms/step - accuracy: 0.7762 - loss: 0.0398 - val_accuracy: 0.7876 - val_loss: 0.0387\n",
            "Epoch 128/200\n",
            "\u001b[1m469/469\u001b[0m \u001b[32m━━━━━━━━━━━━━━━━━━━━\u001b[0m\u001b[37m\u001b[0m \u001b[1m4s\u001b[0m 4ms/step - accuracy: 0.7788 - loss: 0.0395 - val_accuracy: 0.7887 - val_loss: 0.0384\n",
            "Epoch 129/200\n",
            "\u001b[1m469/469\u001b[0m \u001b[32m━━━━━━━━━━━━━━━━━━━━\u001b[0m\u001b[37m\u001b[0m \u001b[1m2s\u001b[0m 3ms/step - accuracy: 0.7795 - loss: 0.0393 - val_accuracy: 0.7905 - val_loss: 0.0382\n",
            "Epoch 130/200\n",
            "\u001b[1m469/469\u001b[0m \u001b[32m━━━━━━━━━━━━━━━━━━━━\u001b[0m\u001b[37m\u001b[0m \u001b[1m2s\u001b[0m 3ms/step - accuracy: 0.7812 - loss: 0.0390 - val_accuracy: 0.7921 - val_loss: 0.0380\n",
            "Epoch 131/200\n",
            "\u001b[1m469/469\u001b[0m \u001b[32m━━━━━━━━━━━━━━━━━━━━\u001b[0m\u001b[37m\u001b[0m \u001b[1m3s\u001b[0m 4ms/step - accuracy: 0.7817 - loss: 0.0389 - val_accuracy: 0.7932 - val_loss: 0.0378\n",
            "Epoch 132/200\n",
            "\u001b[1m469/469\u001b[0m \u001b[32m━━━━━━━━━━━━━━━━━━━━\u001b[0m\u001b[37m\u001b[0m \u001b[1m3s\u001b[0m 5ms/step - accuracy: 0.7867 - loss: 0.0385 - val_accuracy: 0.7949 - val_loss: 0.0375\n",
            "Epoch 133/200\n",
            "\u001b[1m469/469\u001b[0m \u001b[32m━━━━━━━━━━━━━━━━━━━━\u001b[0m\u001b[37m\u001b[0m \u001b[1m4s\u001b[0m 3ms/step - accuracy: 0.7856 - loss: 0.0384 - val_accuracy: 0.7965 - val_loss: 0.0373\n",
            "Epoch 134/200\n",
            "\u001b[1m469/469\u001b[0m \u001b[32m━━━━━━━━━━━━━━━━━━━━\u001b[0m\u001b[37m\u001b[0m \u001b[1m3s\u001b[0m 5ms/step - accuracy: 0.7835 - loss: 0.0383 - val_accuracy: 0.7979 - val_loss: 0.0371\n",
            "Epoch 135/200\n",
            "\u001b[1m469/469\u001b[0m \u001b[32m━━━━━━━━━━━━━━━━━━━━\u001b[0m\u001b[37m\u001b[0m \u001b[1m3s\u001b[0m 5ms/step - accuracy: 0.7890 - loss: 0.0380 - val_accuracy: 0.7987 - val_loss: 0.0369\n",
            "Epoch 136/200\n",
            "\u001b[1m469/469\u001b[0m \u001b[32m━━━━━━━━━━━━━━━━━━━━\u001b[0m\u001b[37m\u001b[0m \u001b[1m2s\u001b[0m 5ms/step - accuracy: 0.7908 - loss: 0.0377 - val_accuracy: 0.8005 - val_loss: 0.0367\n",
            "Epoch 137/200\n",
            "\u001b[1m469/469\u001b[0m \u001b[32m━━━━━━━━━━━━━━━━━━━━\u001b[0m\u001b[37m\u001b[0m \u001b[1m3s\u001b[0m 5ms/step - accuracy: 0.7906 - loss: 0.0376 - val_accuracy: 0.8015 - val_loss: 0.0364\n",
            "Epoch 138/200\n",
            "\u001b[1m469/469\u001b[0m \u001b[32m━━━━━━━━━━━━━━━━━━━━\u001b[0m\u001b[37m\u001b[0m \u001b[1m2s\u001b[0m 3ms/step - accuracy: 0.7910 - loss: 0.0375 - val_accuracy: 0.8031 - val_loss: 0.0362\n",
            "Epoch 139/200\n",
            "\u001b[1m469/469\u001b[0m \u001b[32m━━━━━━━━━━━━━━━━━━━━\u001b[0m\u001b[37m\u001b[0m \u001b[1m3s\u001b[0m 4ms/step - accuracy: 0.7945 - loss: 0.0371 - val_accuracy: 0.8051 - val_loss: 0.0360\n",
            "Epoch 140/200\n",
            "\u001b[1m469/469\u001b[0m \u001b[32m━━━━━━━━━━━━━━━━━━━━\u001b[0m\u001b[37m\u001b[0m \u001b[1m2s\u001b[0m 3ms/step - accuracy: 0.7964 - loss: 0.0369 - val_accuracy: 0.8071 - val_loss: 0.0358\n",
            "Epoch 141/200\n",
            "\u001b[1m469/469\u001b[0m \u001b[32m━━━━━━━━━━━━━━━━━━━━\u001b[0m\u001b[37m\u001b[0m \u001b[1m3s\u001b[0m 3ms/step - accuracy: 0.7976 - loss: 0.0369 - val_accuracy: 0.8093 - val_loss: 0.0356\n",
            "Epoch 142/200\n",
            "\u001b[1m469/469\u001b[0m \u001b[32m━━━━━━━━━━━━━━━━━━━━\u001b[0m\u001b[37m\u001b[0m \u001b[1m4s\u001b[0m 6ms/step - accuracy: 0.7980 - loss: 0.0366 - val_accuracy: 0.8111 - val_loss: 0.0354\n",
            "Epoch 143/200\n",
            "\u001b[1m469/469\u001b[0m \u001b[32m━━━━━━━━━━━━━━━━━━━━\u001b[0m\u001b[37m\u001b[0m \u001b[1m2s\u001b[0m 4ms/step - accuracy: 0.8037 - loss: 0.0362 - val_accuracy: 0.8131 - val_loss: 0.0352\n",
            "Epoch 144/200\n",
            "\u001b[1m469/469\u001b[0m \u001b[32m━━━━━━━━━━━━━━━━━━━━\u001b[0m\u001b[37m\u001b[0m \u001b[1m2s\u001b[0m 4ms/step - accuracy: 0.8036 - loss: 0.0360 - val_accuracy: 0.8152 - val_loss: 0.0350\n",
            "Epoch 145/200\n",
            "\u001b[1m469/469\u001b[0m \u001b[32m━━━━━━━━━━━━━━━━━━━━\u001b[0m\u001b[37m\u001b[0m \u001b[1m2s\u001b[0m 4ms/step - accuracy: 0.8050 - loss: 0.0360 - val_accuracy: 0.8166 - val_loss: 0.0348\n",
            "Epoch 146/200\n",
            "\u001b[1m469/469\u001b[0m \u001b[32m━━━━━━━━━━━━━━━━━━━━\u001b[0m\u001b[37m\u001b[0m \u001b[1m2s\u001b[0m 3ms/step - accuracy: 0.8085 - loss: 0.0356 - val_accuracy: 0.8188 - val_loss: 0.0346\n",
            "Epoch 147/200\n",
            "\u001b[1m469/469\u001b[0m \u001b[32m━━━━━━━━━━━━━━━━━━━━\u001b[0m\u001b[37m\u001b[0m \u001b[1m2s\u001b[0m 3ms/step - accuracy: 0.8076 - loss: 0.0357 - val_accuracy: 0.8200 - val_loss: 0.0344\n",
            "Epoch 148/200\n",
            "\u001b[1m469/469\u001b[0m \u001b[32m━━━━━━━━━━━━━━━━━━━━\u001b[0m\u001b[37m\u001b[0m \u001b[1m3s\u001b[0m 5ms/step - accuracy: 0.8113 - loss: 0.0354 - val_accuracy: 0.8220 - val_loss: 0.0342\n",
            "Epoch 149/200\n",
            "\u001b[1m469/469\u001b[0m \u001b[32m━━━━━━━━━━━━━━━━━━━━\u001b[0m\u001b[37m\u001b[0m \u001b[1m2s\u001b[0m 5ms/step - accuracy: 0.8126 - loss: 0.0352 - val_accuracy: 0.8238 - val_loss: 0.0341\n",
            "Epoch 150/200\n",
            "\u001b[1m469/469\u001b[0m \u001b[32m━━━━━━━━━━━━━━━━━━━━\u001b[0m\u001b[37m\u001b[0m \u001b[1m2s\u001b[0m 4ms/step - accuracy: 0.8125 - loss: 0.0352 - val_accuracy: 0.8253 - val_loss: 0.0339\n",
            "Epoch 151/200\n",
            "\u001b[1m469/469\u001b[0m \u001b[32m━━━━━━━━━━━━━━━━━━━━\u001b[0m\u001b[37m\u001b[0m \u001b[1m2s\u001b[0m 4ms/step - accuracy: 0.8152 - loss: 0.0349 - val_accuracy: 0.8273 - val_loss: 0.0337\n",
            "Epoch 152/200\n",
            "\u001b[1m469/469\u001b[0m \u001b[32m━━━━━━━━━━━━━━━━━━━━\u001b[0m\u001b[37m\u001b[0m \u001b[1m3s\u001b[0m 4ms/step - accuracy: 0.8190 - loss: 0.0345 - val_accuracy: 0.8294 - val_loss: 0.0335\n",
            "Epoch 153/200\n",
            "\u001b[1m469/469\u001b[0m \u001b[32m━━━━━━━━━━━━━━━━━━━━\u001b[0m\u001b[37m\u001b[0m \u001b[1m2s\u001b[0m 3ms/step - accuracy: 0.8218 - loss: 0.0344 - val_accuracy: 0.8309 - val_loss: 0.0333\n",
            "Epoch 154/200\n",
            "\u001b[1m469/469\u001b[0m \u001b[32m━━━━━━━━━━━━━━━━━━━━\u001b[0m\u001b[37m\u001b[0m \u001b[1m4s\u001b[0m 6ms/step - accuracy: 0.8211 - loss: 0.0341 - val_accuracy: 0.8327 - val_loss: 0.0331\n",
            "Epoch 155/200\n",
            "\u001b[1m469/469\u001b[0m \u001b[32m━━━━━━━━━━━━━━━━━━━━\u001b[0m\u001b[37m\u001b[0m \u001b[1m4s\u001b[0m 4ms/step - accuracy: 0.8226 - loss: 0.0341 - val_accuracy: 0.8344 - val_loss: 0.0330\n",
            "Epoch 156/200\n",
            "\u001b[1m469/469\u001b[0m \u001b[32m━━━━━━━━━━━━━━━━━━━━\u001b[0m\u001b[37m\u001b[0m \u001b[1m2s\u001b[0m 3ms/step - accuracy: 0.8222 - loss: 0.0340 - val_accuracy: 0.8354 - val_loss: 0.0328\n",
            "Epoch 157/200\n",
            "\u001b[1m469/469\u001b[0m \u001b[32m━━━━━━━━━━━━━━━━━━━━\u001b[0m\u001b[37m\u001b[0m \u001b[1m2s\u001b[0m 4ms/step - accuracy: 0.8243 - loss: 0.0339 - val_accuracy: 0.8363 - val_loss: 0.0326\n",
            "Epoch 158/200\n",
            "\u001b[1m469/469\u001b[0m \u001b[32m━━━━━━━━━━━━━━━━━━━━\u001b[0m\u001b[37m\u001b[0m \u001b[1m2s\u001b[0m 3ms/step - accuracy: 0.8253 - loss: 0.0337 - val_accuracy: 0.8380 - val_loss: 0.0325\n",
            "Epoch 159/200\n",
            "\u001b[1m469/469\u001b[0m \u001b[32m━━━━━━━━━━━━━━━━━━━━\u001b[0m\u001b[37m\u001b[0m \u001b[1m3s\u001b[0m 6ms/step - accuracy: 0.8270 - loss: 0.0335 - val_accuracy: 0.8392 - val_loss: 0.0323\n",
            "Epoch 160/200\n",
            "\u001b[1m469/469\u001b[0m \u001b[32m━━━━━━━━━━━━━━━━━━━━\u001b[0m\u001b[37m\u001b[0m \u001b[1m4s\u001b[0m 4ms/step - accuracy: 0.8297 - loss: 0.0333 - val_accuracy: 0.8407 - val_loss: 0.0321\n",
            "Epoch 161/200\n",
            "\u001b[1m469/469\u001b[0m \u001b[32m━━━━━━━━━━━━━━━━━━━━\u001b[0m\u001b[37m\u001b[0m \u001b[1m2s\u001b[0m 4ms/step - accuracy: 0.8293 - loss: 0.0331 - val_accuracy: 0.8420 - val_loss: 0.0320\n",
            "Epoch 162/200\n",
            "\u001b[1m469/469\u001b[0m \u001b[32m━━━━━━━━━━━━━━━━━━━━\u001b[0m\u001b[37m\u001b[0m \u001b[1m2s\u001b[0m 4ms/step - accuracy: 0.8303 - loss: 0.0330 - val_accuracy: 0.8433 - val_loss: 0.0318\n",
            "Epoch 163/200\n",
            "\u001b[1m469/469\u001b[0m \u001b[32m━━━━━━━━━━━━━━━━━━━━\u001b[0m\u001b[37m\u001b[0m \u001b[1m3s\u001b[0m 4ms/step - accuracy: 0.8339 - loss: 0.0327 - val_accuracy: 0.8446 - val_loss: 0.0316\n",
            "Epoch 164/200\n",
            "\u001b[1m469/469\u001b[0m \u001b[32m━━━━━━━━━━━━━━━━━━━━\u001b[0m\u001b[37m\u001b[0m \u001b[1m3s\u001b[0m 6ms/step - accuracy: 0.8321 - loss: 0.0328 - val_accuracy: 0.8460 - val_loss: 0.0315\n",
            "Epoch 165/200\n",
            "\u001b[1m469/469\u001b[0m \u001b[32m━━━━━━━━━━━━━━━━━━━━\u001b[0m\u001b[37m\u001b[0m \u001b[1m4s\u001b[0m 4ms/step - accuracy: 0.8359 - loss: 0.0324 - val_accuracy: 0.8468 - val_loss: 0.0313\n",
            "Epoch 166/200\n",
            "\u001b[1m469/469\u001b[0m \u001b[32m━━━━━━━━━━━━━━━━━━━━\u001b[0m\u001b[37m\u001b[0m \u001b[1m2s\u001b[0m 3ms/step - accuracy: 0.8345 - loss: 0.0323 - val_accuracy: 0.8472 - val_loss: 0.0311\n",
            "Epoch 167/200\n",
            "\u001b[1m469/469\u001b[0m \u001b[32m━━━━━━━━━━━━━━━━━━━━\u001b[0m\u001b[37m\u001b[0m \u001b[1m2s\u001b[0m 3ms/step - accuracy: 0.8352 - loss: 0.0323 - val_accuracy: 0.8483 - val_loss: 0.0310\n",
            "Epoch 168/200\n",
            "\u001b[1m469/469\u001b[0m \u001b[32m━━━━━━━━━━━━━━━━━━━━\u001b[0m\u001b[37m\u001b[0m \u001b[1m3s\u001b[0m 5ms/step - accuracy: 0.8368 - loss: 0.0320 - val_accuracy: 0.8489 - val_loss: 0.0308\n",
            "Epoch 169/200\n",
            "\u001b[1m469/469\u001b[0m \u001b[32m━━━━━━━━━━━━━━━━━━━━\u001b[0m\u001b[37m\u001b[0m \u001b[1m3s\u001b[0m 6ms/step - accuracy: 0.8400 - loss: 0.0318 - val_accuracy: 0.8508 - val_loss: 0.0307\n",
            "Epoch 170/200\n",
            "\u001b[1m469/469\u001b[0m \u001b[32m━━━━━━━━━━━━━━━━━━━━\u001b[0m\u001b[37m\u001b[0m \u001b[1m2s\u001b[0m 4ms/step - accuracy: 0.8405 - loss: 0.0317 - val_accuracy: 0.8517 - val_loss: 0.0305\n",
            "Epoch 171/200\n",
            "\u001b[1m469/469\u001b[0m \u001b[32m━━━━━━━━━━━━━━━━━━━━\u001b[0m\u001b[37m\u001b[0m \u001b[1m3s\u001b[0m 4ms/step - accuracy: 0.8424 - loss: 0.0315 - val_accuracy: 0.8533 - val_loss: 0.0304\n",
            "Epoch 172/200\n",
            "\u001b[1m469/469\u001b[0m \u001b[32m━━━━━━━━━━━━━━━━━━━━\u001b[0m\u001b[37m\u001b[0m \u001b[1m2s\u001b[0m 4ms/step - accuracy: 0.8406 - loss: 0.0315 - val_accuracy: 0.8542 - val_loss: 0.0302\n",
            "Epoch 173/200\n",
            "\u001b[1m469/469\u001b[0m \u001b[32m━━━━━━━━━━━━━━━━━━━━\u001b[0m\u001b[37m\u001b[0m \u001b[1m2s\u001b[0m 3ms/step - accuracy: 0.8433 - loss: 0.0312 - val_accuracy: 0.8548 - val_loss: 0.0301\n",
            "Epoch 174/200\n",
            "\u001b[1m469/469\u001b[0m \u001b[32m━━━━━━━━━━━━━━━━━━━━\u001b[0m\u001b[37m\u001b[0m \u001b[1m2s\u001b[0m 3ms/step - accuracy: 0.8447 - loss: 0.0310 - val_accuracy: 0.8553 - val_loss: 0.0300\n",
            "Epoch 175/200\n",
            "\u001b[1m469/469\u001b[0m \u001b[32m━━━━━━━━━━━━━━━━━━━━\u001b[0m\u001b[37m\u001b[0m \u001b[1m4s\u001b[0m 6ms/step - accuracy: 0.8434 - loss: 0.0310 - val_accuracy: 0.8559 - val_loss: 0.0298\n",
            "Epoch 176/200\n",
            "\u001b[1m469/469\u001b[0m \u001b[32m━━━━━━━━━━━━━━━━━━━━\u001b[0m\u001b[37m\u001b[0m \u001b[1m4s\u001b[0m 3ms/step - accuracy: 0.8439 - loss: 0.0309 - val_accuracy: 0.8567 - val_loss: 0.0297\n",
            "Epoch 177/200\n",
            "\u001b[1m469/469\u001b[0m \u001b[32m━━━━━━━━━━━━━━━━━━━━\u001b[0m\u001b[37m\u001b[0m \u001b[1m2s\u001b[0m 4ms/step - accuracy: 0.8475 - loss: 0.0306 - val_accuracy: 0.8579 - val_loss: 0.0295\n",
            "Epoch 178/200\n",
            "\u001b[1m469/469\u001b[0m \u001b[32m━━━━━━━━━━━━━━━━━━━━\u001b[0m\u001b[37m\u001b[0m \u001b[1m2s\u001b[0m 3ms/step - accuracy: 0.8479 - loss: 0.0305 - val_accuracy: 0.8591 - val_loss: 0.0294\n",
            "Epoch 179/200\n",
            "\u001b[1m469/469\u001b[0m \u001b[32m━━━━━━━━━━━━━━━━━━━━\u001b[0m\u001b[37m\u001b[0m \u001b[1m3s\u001b[0m 3ms/step - accuracy: 0.8474 - loss: 0.0304 - val_accuracy: 0.8598 - val_loss: 0.0293\n",
            "Epoch 180/200\n",
            "\u001b[1m469/469\u001b[0m \u001b[32m━━━━━━━━━━━━━━━━━━━━\u001b[0m\u001b[37m\u001b[0m \u001b[1m4s\u001b[0m 6ms/step - accuracy: 0.8484 - loss: 0.0304 - val_accuracy: 0.8600 - val_loss: 0.0291\n",
            "Epoch 181/200\n",
            "\u001b[1m469/469\u001b[0m \u001b[32m━━━━━━━━━━━━━━━━━━━━\u001b[0m\u001b[37m\u001b[0m \u001b[1m5s\u001b[0m 4ms/step - accuracy: 0.8509 - loss: 0.0299 - val_accuracy: 0.8600 - val_loss: 0.0290\n",
            "Epoch 182/200\n",
            "\u001b[1m469/469\u001b[0m \u001b[32m━━━━━━━━━━━━━━━━━━━━\u001b[0m\u001b[37m\u001b[0m \u001b[1m2s\u001b[0m 3ms/step - accuracy: 0.8522 - loss: 0.0299 - val_accuracy: 0.8605 - val_loss: 0.0289\n",
            "Epoch 183/200\n",
            "\u001b[1m469/469\u001b[0m \u001b[32m━━━━━━━━━━━━━━━━━━━━\u001b[0m\u001b[37m\u001b[0m \u001b[1m3s\u001b[0m 4ms/step - accuracy: 0.8511 - loss: 0.0299 - val_accuracy: 0.8609 - val_loss: 0.0287\n",
            "Epoch 184/200\n",
            "\u001b[1m469/469\u001b[0m \u001b[32m━━━━━━━━━━━━━━━━━━━━\u001b[0m\u001b[37m\u001b[0m \u001b[1m2s\u001b[0m 5ms/step - accuracy: 0.8536 - loss: 0.0295 - val_accuracy: 0.8614 - val_loss: 0.0286\n",
            "Epoch 185/200\n",
            "\u001b[1m469/469\u001b[0m \u001b[32m━━━━━━━━━━━━━━━━━━━━\u001b[0m\u001b[37m\u001b[0m \u001b[1m3s\u001b[0m 5ms/step - accuracy: 0.8559 - loss: 0.0294 - val_accuracy: 0.8625 - val_loss: 0.0285\n",
            "Epoch 186/200\n",
            "\u001b[1m469/469\u001b[0m \u001b[32m━━━━━━━━━━━━━━━━━━━━\u001b[0m\u001b[37m\u001b[0m \u001b[1m2s\u001b[0m 4ms/step - accuracy: 0.8526 - loss: 0.0294 - val_accuracy: 0.8628 - val_loss: 0.0283\n",
            "Epoch 187/200\n",
            "\u001b[1m469/469\u001b[0m \u001b[32m━━━━━━━━━━━━━━━━━━━━\u001b[0m\u001b[37m\u001b[0m \u001b[1m3s\u001b[0m 4ms/step - accuracy: 0.8528 - loss: 0.0294 - val_accuracy: 0.8631 - val_loss: 0.0282\n",
            "Epoch 188/200\n",
            "\u001b[1m469/469\u001b[0m \u001b[32m━━━━━━━━━━━━━━━━━━━━\u001b[0m\u001b[37m\u001b[0m \u001b[1m2s\u001b[0m 4ms/step - accuracy: 0.8546 - loss: 0.0291 - val_accuracy: 0.8637 - val_loss: 0.0281\n",
            "Epoch 189/200\n",
            "\u001b[1m469/469\u001b[0m \u001b[32m━━━━━━━━━━━━━━━━━━━━\u001b[0m\u001b[37m\u001b[0m \u001b[1m2s\u001b[0m 4ms/step - accuracy: 0.8562 - loss: 0.0289 - val_accuracy: 0.8643 - val_loss: 0.0280\n",
            "Epoch 190/200\n",
            "\u001b[1m469/469\u001b[0m \u001b[32m━━━━━━━━━━━━━━━━━━━━\u001b[0m\u001b[37m\u001b[0m \u001b[1m2s\u001b[0m 4ms/step - accuracy: 0.8543 - loss: 0.0292 - val_accuracy: 0.8648 - val_loss: 0.0279\n",
            "Epoch 191/200\n",
            "\u001b[1m469/469\u001b[0m \u001b[32m━━━━━━━━━━━━━━━━━━━━\u001b[0m\u001b[37m\u001b[0m \u001b[1m3s\u001b[0m 6ms/step - accuracy: 0.8554 - loss: 0.0289 - val_accuracy: 0.8655 - val_loss: 0.0277\n",
            "Epoch 192/200\n",
            "\u001b[1m469/469\u001b[0m \u001b[32m━━━━━━━━━━━━━━━━━━━━\u001b[0m\u001b[37m\u001b[0m \u001b[1m4s\u001b[0m 5ms/step - accuracy: 0.8567 - loss: 0.0286 - val_accuracy: 0.8657 - val_loss: 0.0276\n",
            "Epoch 193/200\n",
            "\u001b[1m469/469\u001b[0m \u001b[32m━━━━━━━━━━━━━━━━━━━━\u001b[0m\u001b[37m\u001b[0m \u001b[1m2s\u001b[0m 4ms/step - accuracy: 0.8582 - loss: 0.0287 - val_accuracy: 0.8660 - val_loss: 0.0275\n",
            "Epoch 194/200\n",
            "\u001b[1m469/469\u001b[0m \u001b[32m━━━━━━━━━━━━━━━━━━━━\u001b[0m\u001b[37m\u001b[0m \u001b[1m3s\u001b[0m 4ms/step - accuracy: 0.8582 - loss: 0.0284 - val_accuracy: 0.8663 - val_loss: 0.0274\n",
            "Epoch 195/200\n",
            "\u001b[1m469/469\u001b[0m \u001b[32m━━━━━━━━━━━━━━━━━━━━\u001b[0m\u001b[37m\u001b[0m \u001b[1m3s\u001b[0m 5ms/step - accuracy: 0.8586 - loss: 0.0283 - val_accuracy: 0.8669 - val_loss: 0.0273\n",
            "Epoch 196/200\n",
            "\u001b[1m469/469\u001b[0m \u001b[32m━━━━━━━━━━━━━━━━━━━━\u001b[0m\u001b[37m\u001b[0m \u001b[1m3s\u001b[0m 5ms/step - accuracy: 0.8585 - loss: 0.0283 - val_accuracy: 0.8679 - val_loss: 0.0272\n",
            "Epoch 197/200\n",
            "\u001b[1m469/469\u001b[0m \u001b[32m━━━━━━━━━━━━━━━━━━━━\u001b[0m\u001b[37m\u001b[0m \u001b[1m2s\u001b[0m 4ms/step - accuracy: 0.8584 - loss: 0.0282 - val_accuracy: 0.8684 - val_loss: 0.0271\n",
            "Epoch 198/200\n",
            "\u001b[1m469/469\u001b[0m \u001b[32m━━━━━━━━━━━━━━━━━━━━\u001b[0m\u001b[37m\u001b[0m \u001b[1m2s\u001b[0m 4ms/step - accuracy: 0.8580 - loss: 0.0282 - val_accuracy: 0.8687 - val_loss: 0.0270\n",
            "Epoch 199/200\n",
            "\u001b[1m469/469\u001b[0m \u001b[32m━━━━━━━━━━━━━━━━━━━━\u001b[0m\u001b[37m\u001b[0m \u001b[1m3s\u001b[0m 4ms/step - accuracy: 0.8589 - loss: 0.0280 - val_accuracy: 0.8691 - val_loss: 0.0268\n",
            "Epoch 200/200\n",
            "\u001b[1m469/469\u001b[0m \u001b[32m━━━━━━━━━━━━━━━━━━━━\u001b[0m\u001b[37m\u001b[0m \u001b[1m2s\u001b[0m 4ms/step - accuracy: 0.8619 - loss: 0.0277 - val_accuracy: 0.8696 - val_loss: 0.0267\n"
          ]
        },
        {
          "output_type": "execute_result",
          "data": {
            "text/plain": [
              "<keras.src.callbacks.history.History at 0x7b5dfb1a2770>"
            ]
          },
          "metadata": {},
          "execution_count": 14
        }
      ]
    },
    {
      "cell_type": "code",
      "source": [
        "model.evaluate(X_valid, y_valid)\n"
      ],
      "metadata": {
        "colab": {
          "base_uri": "https://localhost:8080/"
        },
        "id": "d7-J2lyV-HUW",
        "outputId": "ab4b97d9-a9a0-479f-bab9-f90db15a0192"
      },
      "execution_count": 15,
      "outputs": [
        {
          "output_type": "stream",
          "name": "stdout",
          "text": [
            "\u001b[1m313/313\u001b[0m \u001b[32m━━━━━━━━━━━━━━━━━━━━\u001b[0m\u001b[37m\u001b[0m \u001b[1m1s\u001b[0m 2ms/step - accuracy: 0.8518 - loss: 0.0296\n"
          ]
        },
        {
          "output_type": "execute_result",
          "data": {
            "text/plain": [
              "[0.026737436652183533, 0.8695999979972839]"
            ]
          },
          "metadata": {},
          "execution_count": 15
        }
      ]
    },
    {
      "cell_type": "code",
      "source": [],
      "metadata": {
        "id": "4rn2B2gL-Haq"
      },
      "execution_count": null,
      "outputs": []
    }
  ]
}